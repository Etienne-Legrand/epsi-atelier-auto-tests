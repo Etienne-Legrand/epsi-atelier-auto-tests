{
 "cells": [
  {
   "cell_type": "code",
   "execution_count": 1,
   "id": "f3e8fa22",
   "metadata": {},
   "outputs": [
    {
     "name": "stdout",
     "output_type": "stream",
     "text": [
      "Requirement already satisfied: selenium in c:\\users\\tkdal\\appdata\\local\\programs\\python\\python311\\lib\\site-packages (4.21.0)\n",
      "Requirement already satisfied: urllib3[socks]<3,>=1.26 in c:\\users\\tkdal\\appdata\\local\\programs\\python\\python311\\lib\\site-packages (from selenium) (2.0.4)\n",
      "Requirement already satisfied: trio~=0.17 in c:\\users\\tkdal\\appdata\\local\\programs\\python\\python311\\lib\\site-packages (from selenium) (0.25.1)\n",
      "Requirement already satisfied: trio-websocket~=0.9 in c:\\users\\tkdal\\appdata\\local\\programs\\python\\python311\\lib\\site-packages (from selenium) (0.11.1)\n",
      "Requirement already satisfied: certifi>=2021.10.8 in c:\\users\\tkdal\\appdata\\local\\programs\\python\\python311\\lib\\site-packages (from selenium) (2023.7.22)\n",
      "Requirement already satisfied: typing_extensions>=4.9.0 in c:\\users\\tkdal\\appdata\\local\\programs\\python\\python311\\lib\\site-packages (from selenium) (4.10.0)\n",
      "Requirement already satisfied: attrs>=23.2.0 in c:\\users\\tkdal\\appdata\\local\\programs\\python\\python311\\lib\\site-packages (from trio~=0.17->selenium) (23.2.0)\n",
      "Requirement already satisfied: sortedcontainers in c:\\users\\tkdal\\appdata\\local\\programs\\python\\python311\\lib\\site-packages (from trio~=0.17->selenium) (2.4.0)\n",
      "Requirement already satisfied: idna in c:\\users\\tkdal\\appdata\\local\\programs\\python\\python311\\lib\\site-packages (from trio~=0.17->selenium) (3.4)\n",
      "Requirement already satisfied: outcome in c:\\users\\tkdal\\appdata\\local\\programs\\python\\python311\\lib\\site-packages (from trio~=0.17->selenium) (1.3.0.post0)\n",
      "Requirement already satisfied: sniffio>=1.3.0 in c:\\users\\tkdal\\appdata\\local\\programs\\python\\python311\\lib\\site-packages (from trio~=0.17->selenium) (1.3.0)\n",
      "Requirement already satisfied: cffi>=1.14 in c:\\users\\tkdal\\appdata\\local\\programs\\python\\python311\\lib\\site-packages (from trio~=0.17->selenium) (1.15.1)\n",
      "Requirement already satisfied: wsproto>=0.14 in c:\\users\\tkdal\\appdata\\local\\programs\\python\\python311\\lib\\site-packages (from trio-websocket~=0.9->selenium) (1.2.0)\n",
      "Requirement already satisfied: pysocks!=1.5.7,<2.0,>=1.5.6 in c:\\users\\tkdal\\appdata\\local\\programs\\python\\python311\\lib\\site-packages (from urllib3[socks]<3,>=1.26->selenium) (1.7.1)\n",
      "Requirement already satisfied: pycparser in c:\\users\\tkdal\\appdata\\local\\programs\\python\\python311\\lib\\site-packages (from cffi>=1.14->trio~=0.17->selenium) (2.21)\n",
      "Requirement already satisfied: h11<1,>=0.9.0 in c:\\users\\tkdal\\appdata\\local\\programs\\python\\python311\\lib\\site-packages (from wsproto>=0.14->trio-websocket~=0.9->selenium) (0.14.0)\n"
     ]
    },
    {
     "name": "stderr",
     "output_type": "stream",
     "text": [
      "\n",
      "[notice] A new release of pip available: 22.3.1 -> 24.0\n",
      "[notice] To update, run: python.exe -m pip install --upgrade pip\n"
     ]
    },
    {
     "name": "stdout",
     "output_type": "stream",
     "text": [
      "Requirement already satisfied: webdriver_manager in c:\\users\\tkdal\\appdata\\local\\programs\\python\\python311\\lib\\site-packages (4.0.1)\n",
      "Requirement already satisfied: requests in c:\\users\\tkdal\\appdata\\local\\programs\\python\\python311\\lib\\site-packages (from webdriver_manager) (2.31.0)\n",
      "Requirement already satisfied: python-dotenv in c:\\users\\tkdal\\appdata\\local\\programs\\python\\python311\\lib\\site-packages (from webdriver_manager) (1.0.1)\n",
      "Requirement already satisfied: packaging in c:\\users\\tkdal\\appdata\\local\\programs\\python\\python311\\lib\\site-packages (from webdriver_manager) (23.1)\n",
      "Requirement already satisfied: charset-normalizer<4,>=2 in c:\\users\\tkdal\\appdata\\local\\programs\\python\\python311\\lib\\site-packages (from requests->webdriver_manager) (3.2.0)\n",
      "Requirement already satisfied: idna<4,>=2.5 in c:\\users\\tkdal\\appdata\\local\\programs\\python\\python311\\lib\\site-packages (from requests->webdriver_manager) (3.4)\n",
      "Requirement already satisfied: urllib3<3,>=1.21.1 in c:\\users\\tkdal\\appdata\\local\\programs\\python\\python311\\lib\\site-packages (from requests->webdriver_manager) (2.0.4)\n",
      "Requirement already satisfied: certifi>=2017.4.17 in c:\\users\\tkdal\\appdata\\local\\programs\\python\\python311\\lib\\site-packages (from requests->webdriver_manager) (2023.7.22)\n"
     ]
    },
    {
     "name": "stderr",
     "output_type": "stream",
     "text": [
      "\n",
      "[notice] A new release of pip available: 22.3.1 -> 24.0\n",
      "[notice] To update, run: python.exe -m pip install --upgrade pip\n"
     ]
    }
   ],
   "source": [
    "!pip install selenium\n",
    "!pip install webdriver_manager"
   ]
  },
  {
   "cell_type": "code",
   "execution_count": 31,
   "id": "2ed5aca7",
   "metadata": {},
   "outputs": [],
   "source": [
    "from selenium import webdriver\n",
    "from selenium.webdriver.common.by import By\n",
    "from selenium.webdriver.common.keys import Keys\n",
    "from selenium.webdriver.chrome.service import Service\n",
    "from webdriver_manager.chrome import ChromeDriverManager\n",
    "import time\n",
    "import unittest\n",
    "\n",
    "# Configure the Chrome driver\n",
    "driver = webdriver.Chrome(service=Service(ChromeDriverManager().install()))\n",
    "\n",
    "# Navigue vers Google\n",
    "driver.get(\"https://www.google.fr\")"
   ]
  },
  {
   "cell_type": "code",
   "execution_count": 32,
   "id": "2e78c675",
   "metadata": {},
   "outputs": [
    {
     "name": "stdout",
     "output_type": "stream",
     "text": [
      "Consent modal handled.\n"
     ]
    }
   ],
   "source": [
    "# Gère le modal de consentement des cookies\n",
    "try:\n",
    "    consent_button = driver.find_element(By.XPATH, '//*[@id=\"L2AGLb\"]/div')\n",
    "    consent_button.click()\n",
    "    print(\"Consent modal handled.\")\n",
    "except Exception as e:\n",
    "    print(\"No consent modal found or failed to handle it.\", str(e))"
   ]
  },
  {
   "cell_type": "code",
   "execution_count": 33,
   "id": "69c5dcf1",
   "metadata": {},
   "outputs": [],
   "source": [
    "# Vérifie le titre de la page\n",
    "assert (page_title := (\"Google\" in driver.title))\n",
    "\n",
    "print(\"page_title :: \", page_title)\n",
    "\n",
    "# Trouve la barre de recherche et effectue une recherche\n",
    "search_box = driver.find_element(By.NAME, \"q\")\n",
    "search_box.send_keys(\"automatisation des tests logiciels\")\n",
    "search_box.send_keys(Keys.RETURN)"
   ]
  },
  {
   "cell_type": "markdown",
   "id": "fbad1bda",
   "metadata": {},
   "source": [
    "## Résultat"
   ]
  },
  {
   "cell_type": "code",
   "execution_count": 34,
   "id": "df5f5cb3",
   "metadata": {},
   "outputs": [
    {
     "name": "stdout",
     "output_type": "stream",
     "text": [
      "result_title ::  True\n",
      "result_h3_title ::  True\n"
     ]
    }
   ],
   "source": [
    "# Vérifie que le titre\n",
    "title = driver.title\n",
    "assert (result_title := (\"automatisation des tests logiciels - Recherche Google\" == title))\n",
    "\n",
    "print(\"result_title :: \", result_title)\n",
    "\n",
    "# # Vérifie que les résultats contiennent le terme recherché\n",
    "results = driver.find_elements(By.CSS_SELECTOR, 'h3')\n",
    "assert (result_h3_title := (any(\"automatisation des tests\" in result.text.lower() for result in results)))\n",
    "\n",
    "print(\"result_h3_title :: \", result_h3_title)"
   ]
  },
  {
   "cell_type": "markdown",
   "id": "8368a55a",
   "metadata": {},
   "source": [
    "## Fermerture"
   ]
  },
  {
   "cell_type": "code",
   "execution_count": 35,
   "id": "0c69eafa",
   "metadata": {},
   "outputs": [],
   "source": [
    "# Ferme le navigateur\n",
    "driver.quit()"
   ]
  },
  {
   "cell_type": "markdown",
   "id": "47c061cb",
   "metadata": {},
   "source": [
    "## Run All"
   ]
  },
  {
   "cell_type": "code",
   "execution_count": 37,
   "id": "889e9412",
   "metadata": {},
   "outputs": [
    {
     "name": "stdout",
     "output_type": "stream",
     "text": [
      "Consent modal handled.\n",
      "page_title ::  True\n",
      "result_title ::  True\n",
      "result_h3_title ::  True\n"
     ]
    }
   ],
   "source": [
    "from selenium import webdriver\n",
    "from selenium.webdriver.common.by import By\n",
    "from selenium.webdriver.common.keys import Keys\n",
    "from selenium.webdriver.chrome.service import Service\n",
    "from webdriver_manager.chrome import ChromeDriverManager\n",
    "import time\n",
    "import unittest\n",
    "\n",
    "# Configure the Chrome driver\n",
    "driver = webdriver.Chrome(service=Service(ChromeDriverManager().install()))\n",
    "\n",
    "# Navigue vers Google\n",
    "driver.get(\"https://www.google.fr\")\n",
    "\n",
    "# Gère le modal de consentement des cookies\n",
    "try:\n",
    "    consent_button = driver.find_element(By.XPATH, '//*[@id=\"L2AGLb\"]/div')\n",
    "    consent_button.click()\n",
    "    print(\"Consent modal handled.\")\n",
    "except Exception as e:\n",
    "    print(\"No consent modal found or failed to handle it.\", str(e))\n",
    "    \n",
    "# Vérifie le titre de la page\n",
    "assert (page_title := (\"Google\" in driver.title))\n",
    "\n",
    "print(\"page_title :: \", page_title)\n",
    "\n",
    "# Trouve la barre de recherche et effectue une recherche\n",
    "search_box = driver.find_element(By.NAME, \"q\")\n",
    "search_box.send_keys(\"automatisation des tests logiciels\")\n",
    "search_box.send_keys(Keys.RETURN)\n",
    "\n",
    "# Vérifie que le titre\n",
    "title = driver.title\n",
    "assert (result_title := (\"automatisation des tests logiciels - Recherche Google\" == title))\n",
    "\n",
    "print(\"result_title :: \", result_title)\n",
    "\n",
    "# # Vérifie que les résultats contiennent le terme recherché\n",
    "results = driver.find_elements(By.CSS_SELECTOR, 'h3')\n",
    "assert (result_h3_title := (any(\"automatisation des tests\" in result.text.lower() for result in results)))\n",
    "\n",
    "print(\"result_h3_title :: \", result_h3_title)\n",
    "\n",
    "# Ferme le navigateur\n",
    "driver.quit()"
   ]
  }
 ],
 "metadata": {
  "kernelspec": {
   "display_name": "Python 3 (ipykernel)",
   "language": "python",
   "name": "python3"
  },
  "language_info": {
   "codemirror_mode": {
    "name": "ipython",
    "version": 3
   },
   "file_extension": ".py",
   "mimetype": "text/x-python",
   "name": "python",
   "nbconvert_exporter": "python",
   "pygments_lexer": "ipython3",
   "version": "3.11.3"
  }
 },
 "nbformat": 4,
 "nbformat_minor": 5
}
